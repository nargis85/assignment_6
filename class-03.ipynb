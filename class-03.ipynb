{
 "cells": [
  {
   "cell_type": "code",
   "execution_count": 8,
   "id": "037dc03d",
   "metadata": {},
   "outputs": [
    {
     "name": "stdout",
     "output_type": "stream",
     "text": [
      "['jeff', 'bill', 'steve', 'mohan']\n",
      "['argia', 'jeff', 'bill', 'steve', 'mohan']\n",
      "['argia', 'jeff', 'bill', 'steve', 'mohan', 'builks']\n",
      "builks\n",
      "['argia', 'jeff']\n"
     ]
    }
   ],
   "source": [
    "names=['jeff','bill','steve','mohan']\n",
    "print(names)\n",
    "names.insert(0,'argia')\n",
    "print(names)\n",
    "names.append('builks')\n",
    "print(names)\n",
    "print(names[-1])\n",
    "print(names[:2])\n"
   ]
  },
  {
   "cell_type": "code",
   "execution_count": 13,
   "id": "9aa62751",
   "metadata": {},
   "outputs": [
    {
     "name": "stdout",
     "output_type": "stream",
     "text": [
      "['argia']\n",
      "[]\n",
      "['argia']\n"
     ]
    }
   ],
   "source": [
    "names.pop(-1)\n",
    "print(names)\n",
    "print(names[1:3])\n",
    "names2=names.copy()\n",
    "print(names2)"
   ]
  },
  {
   "cell_type": "code",
   "execution_count": 24,
   "id": "9357231f",
   "metadata": {},
   "outputs": [
    {
     "name": "stdout",
     "output_type": "stream",
     "text": [
      "['dhaka', 'barisal', 'farmgate', 'paris', 'newyour', 'mumbai']\n",
      "['dhaka', 'barisal', 'farmgate', 'paris', 'newyour', 'mumbai']\n",
      "['lahor', 'dhaka', 'barisal', 'farmgate', 'paris', 'newyour', 'mumbai', 'cadpur']\n",
      "['dhaka', 'barisal', 'farmgate', 'paris', 'newyour', 'mumbai']\n",
      "[]\n"
     ]
    }
   ],
   "source": [
    "names2.count('var')\n",
    "\n",
    "cities=['dhaka','barisal','farmgate','paris','newyour', 'mumbai','barisal']\n",
    "cities2=cities.copy()\n",
    "print(cities)\n",
    "print(cities2)\n",
    "cities.append('cadpur')\n",
    "cities.insert(0,'lahor')\n",
    "print(cities)\n",
    "print(cities2)\n",
    "cities2.clear()\n",
    "print(cities2)"
   ]
  },
  {
   "cell_type": "code",
   "execution_count": 26,
   "id": "1e59189d",
   "metadata": {},
   "outputs": [
    {
     "data": {
      "text/plain": [
       "1"
      ]
     },
     "execution_count": 26,
     "metadata": {},
     "output_type": "execute_result"
    }
   ],
   "source": [
    "cities.count('barisal')\n"
   ]
  },
  {
   "cell_type": "code",
   "execution_count": 38,
   "id": "779cf91a",
   "metadata": {},
   "outputs": [
    {
     "name": "stdout",
     "output_type": "stream",
     "text": [
      "['lahor', 'dhaka', 'barisal', 'farmgate', 'paris', 'newyour', 'mumbai', 'cadpur', 'chaina', 'srilanka', 'London', 'singappure', 'Australia', 'chaina', 'srilanka', 'London', 'singappure', 'Australia', 'chaina', 'srilanka', 'London', 'singappure', 'Australia', 'chaina', 'srilanka', 'London', 'singappure', 'Australia', 'chaina', 'srilanka', 'London', 'singappure', 'Australia', 'chaina', 'srilanka', 'London', 'singappure', 'Australia', 'chaina', 'srilanka', 'London', 'singappure', 'Australia', 'chaina', 'srilanka', 'London', 'singappure', 'Australia', 'chaina', 'srilanka', 'London', 'singappure', 'Australia', 'chaina', 'srilanka', 'London', 'singappure', 'Australia', 'chaina', 'srilanka', 'London', 'singappure', 'Australia']\n",
      "12\n",
      "['Australia', 'singappure', 'London', 'srilanka', 'chaina']\n",
      "None\n"
     ]
    }
   ],
   "source": [
    "cities3=['chaina','srilanka','London','singappure','Australia']\n",
    "cities.extend(cities3)\n",
    "print(cities)\n",
    "print(cities.index('Australia'))\n",
    "cities3.reverse()\n",
    "print(cities3)\n",
    "print(cities3.sort())\n"
   ]
  },
  {
   "cell_type": "code",
   "execution_count": 42,
   "id": "1ee57677",
   "metadata": {},
   "outputs": [
    {
     "name": "stdout",
     "output_type": "stream",
     "text": [
      "['London', 'Mumbai', 'New York', 'Paris']\n",
      "List in Descending Order:  ['Paris', 'New York', 'Mumbai', 'London']\n"
     ]
    }
   ],
   "source": [
    "cities = ['Mumbai', 'London', 'Paris', 'New York']\n",
    "cities.sort()\n",
    "print(cities)\n",
    "cities.sort(reverse=True)\n",
    "print('List in Descending Order: ', cities)"
   ]
  },
  {
   "cell_type": "code",
   "execution_count": null,
   "id": "62470860",
   "metadata": {},
   "outputs": [],
   "source": [
    "#python Tuples-----------------------------------"
   ]
  },
  {
   "cell_type": "code",
   "execution_count": 52,
   "id": "f1b347f4",
   "metadata": {},
   "outputs": [
    {
     "name": "stdout",
     "output_type": "stream",
     "text": [
      "('jeff', 'bill', 'steve', 'yash')\n",
      "(1, 2, 3, 'jaff', 'nar')\n",
      "('sadit',)\n",
      "steve\n",
      "(1, 2, 3, 4)\n",
      "('jeff', 'bill', 'steve', 'yash', 1, 2, 3, 'jaff', 'nar')\n"
     ]
    },
    {
     "data": {
      "text/plain": [
       "False"
      ]
     },
     "execution_count": 52,
     "metadata": {},
     "output_type": "execute_result"
    }
   ],
   "source": [
    "tuple1=('jeff','bill','steve','yash')\n",
    "print(tuple1)\n",
    "tuple2=(1,2,3,'jaff','nar')\n",
    "print(tuple2)\n",
    "tuple3=('sadit',)\n",
    "print(tuple3)\n",
    "print(tuple1[-2])\n",
    "list1=[1,2,3,4]\n",
    "tuple4=tuple(list1)\n",
    "print(tuple4)\n",
    "print(tuple1+tuple2)\n",
    "'jeff' in tuple1\n",
    "'jeff' not in tuple1"
   ]
  },
  {
   "cell_type": "code",
   "execution_count": null,
   "id": "2c8f93b1",
   "metadata": {},
   "outputs": [],
   "source": [
    "#set-----------------------------"
   ]
  },
  {
   "cell_type": "code",
   "execution_count": 64,
   "id": "708bf806",
   "metadata": {},
   "outputs": [
    {
     "name": "stdout",
     "output_type": "stream",
     "text": [
      "{2, 4, 6, 8, 10, 12, 14, 16, 18, 20}\n",
      "{10}\n",
      "{4, 6, 8, 10, 12, 14, 16, 18, 20}\n"
     ]
    },
    {
     "data": {
      "text/plain": [
       "{'april', 'february', 'january', 'march'}"
      ]
     },
     "execution_count": 64,
     "metadata": {},
     "output_type": "execute_result"
    }
   ],
   "source": [
    "set1={2,4,6,8,10,12,14,16,18,20}\n",
    "print(set1)\n",
    "set2=set()\n",
    "set2.add(10)\n",
    "print(set2)\n",
    "set1.remove(2)\n",
    "print(set1)\n",
    "s1={'may','june','july'}\n",
    "s2={'january','february','march','april'}\n",
    "s3={'june','july','august'}\n",
    "s2.union(s1)\n",
    "s1.intersection()\n",
    "s2.difference(s3)"
   ]
  },
  {
   "cell_type": "code",
   "execution_count": 80,
   "id": "9582fbe8",
   "metadata": {},
   "outputs": [
    {
     "name": "stdout",
     "output_type": "stream",
     "text": [
      "set()\n",
      "{'may', 'june', 'july'}\n",
      "{1, 2, 3}\n",
      "{1, 2, 3}\n",
      "{4, 5, 6, 7, 8}\n",
      "{1, 2, 3}\n"
     ]
    }
   ],
   "source": [
    "s1={'may','june','july'}\n",
    "s4=s1.copy()\n",
    "s2={'january','february','march','april'}\n",
    "s1.add('january')\n",
    "s1.clear()\n",
    "print(s1)\n",
    "print(s4)\n",
    "\n",
    "\n",
    "nums1 = {1, 2, 2, 3, 4, 5}\n",
    "nums2 = {4, 5, 6, 7, 8, 8}\n",
    "\n",
    "print(nums1.difference(nums2))\n",
    "\n",
    "\n",
    "nums1.difference_update(nums2)\n",
    "print(nums1)\n",
    "print(nums2)\n",
    "\n"
   ]
  },
  {
   "cell_type": "code",
   "execution_count": 84,
   "id": "cc369972",
   "metadata": {},
   "outputs": [
    {
     "name": "stdout",
     "output_type": "stream",
     "text": [
      "{1, 2, 3, 4}\n"
     ]
    }
   ],
   "source": [
    "\n",
    "nums1 = {1, 2, 2, 3, 4, 5}\n",
    "nums1.discard(5)\n",
    "print(nums1)"
   ]
  },
  {
   "cell_type": "code",
   "execution_count": 89,
   "id": "41bb4551",
   "metadata": {},
   "outputs": [
    {
     "name": "stdout",
     "output_type": "stream",
     "text": [
      "{'Ohio', 'Mumbai', 'Chicago', 'New York'}\n",
      "{'Ohio', 'Philadelphia', 'Seattle', 'Mumbai', 'Chicago', 'New York'}\n"
     ]
    }
   ],
   "source": [
    "cities = {'Mumbai','Chicago','Ohio','New York'}\n",
    "othercities = {'Ohio','New York','Mumbai','Chicago','Seattle','Philadelphia'}\n",
    "cities.intersection_update(othercities)\n",
    "print(cities)\n",
    "print(othercities)"
   ]
  },
  {
   "cell_type": "code",
   "execution_count": 92,
   "id": "71f2738d",
   "metadata": {},
   "outputs": [
    {
     "name": "stdout",
     "output_type": "stream",
     "text": [
      "False\n",
      "False\n",
      "False\n"
     ]
    }
   ],
   "source": [
    "nums1 = {1, 2, 2, 3, 4, 5}\n",
    "nums2 = {4, 5, 6, 7, 8, 8}\n",
    "nums1.intersection(nums2)\n",
    "print(nums1.isdisjoint(nums2))\n",
    "print(nums1.isdisjoint(nums2))\n",
    "print(nums1.issubset(nums2))\n"
   ]
  },
  {
   "cell_type": "code",
   "execution_count": 102,
   "id": "8a7f5fcc",
   "metadata": {},
   "outputs": [
    {
     "name": "stdout",
     "output_type": "stream",
     "text": [
      "True\n",
      "{'c', 'b'}\n",
      "{'a', 'c', 'b', 'd'}\n"
     ]
    }
   ],
   "source": [
    "char_set = {'a','b','c'}\n",
    "char_list = ['a','b','c','d']\n",
    "print(char_set.issubset(char_list))\n",
    "char_set.pop()\n",
    "print(char_set)\n",
    "char=char_set.union(char_list)\n",
    "print(char)"
   ]
  },
  {
   "cell_type": "code",
   "execution_count": null,
   "id": "1989c1db",
   "metadata": {},
   "outputs": [],
   "source": [
    "#Dictionary-------------------------------"
   ]
  },
  {
   "cell_type": "code",
   "execution_count": 103,
   "id": "80a2a367",
   "metadata": {},
   "outputs": [
    {
     "name": "stdout",
     "output_type": "stream",
     "text": [
      "{'Bangladesh': 'dhaka', 'France': 'paris', 'India': 'new delhi'}\n"
     ]
    }
   ],
   "source": [
    "capitals={\"Bangladesh\":\"dhaka\",\"France\":\"paris\",\"India\":\"new delhi\"}\n",
    "print(capitals)"
   ]
  },
  {
   "cell_type": "code",
   "execution_count": 120,
   "id": "db4e6bc3",
   "metadata": {},
   "outputs": [
    {
     "name": "stdout",
     "output_type": "stream",
     "text": [
      "{('parker', 'reynolds', 'camlin'): 'pen', ('lg', 'whirlpool', 'samsung'): 'Refrigerator'}\n"
     ]
    }
   ],
   "source": [
    "items={(\"parker\",\"reynolds\",\"camlin\"):\"pen\",(\"lg\",\"whirlpool\",\"samsung\"):\"Refrigerator\"}\n",
    "\n",
    "print(items)\n",
    "\n"
   ]
  },
  {
   "cell_type": "code",
   "execution_count": 124,
   "id": "2c73ec9c",
   "metadata": {},
   "outputs": [
    {
     "name": "stdout",
     "output_type": "stream",
     "text": [
      "{'test': 'ok', 'test2': 'hi', 'test3': 'hello'}\n"
     ]
    }
   ],
   "source": [
    "dict2={}\n",
    "dict2['test']='ok'\n",
    "dict2['test2']='hi'\n",
    "dict2['test3']='hello'\n",
    "print(dict2)"
   ]
  },
  {
   "cell_type": "code",
   "execution_count": 127,
   "id": "eda672aa",
   "metadata": {},
   "outputs": [
    {
     "name": "stdout",
     "output_type": "stream",
     "text": [
      "dhaka\n"
     ]
    }
   ],
   "source": [
    "capitals={\"Bangladesh\":\"dhaka\",\"France\":\"paris\",\"India\":\"new delhi\"}\n",
    "print(capitals.get(\"Bangladesh\"))"
   ]
  },
  {
   "cell_type": "code",
   "execution_count": 128,
   "id": "b9fb61fc",
   "metadata": {},
   "outputs": [
    {
     "name": "stdout",
     "output_type": "stream",
     "text": [
      "{'Bangladesh': 'BNG', 'France': 'paris', 'India': 'new delhi'}\n"
     ]
    }
   ],
   "source": [
    "capitals[\"Bangladesh\"]=\"BNG\"\n",
    "print(capitals)"
   ]
  },
  {
   "cell_type": "code",
   "execution_count": 129,
   "id": "bd523ad4",
   "metadata": {},
   "outputs": [
    {
     "name": "stdout",
     "output_type": "stream",
     "text": [
      "BNG\n",
      "paris\n",
      "new delhi\n"
     ]
    }
   ],
   "source": [
    "for x in capitals.values():\n",
    "    print(x)\n",
    "    "
   ]
  },
  {
   "cell_type": "code",
   "execution_count": 130,
   "id": "481f7e4b",
   "metadata": {},
   "outputs": [
    {
     "name": "stdout",
     "output_type": "stream",
     "text": [
      "Bangladesh\n",
      "France\n",
      "India\n"
     ]
    }
   ],
   "source": [
    "for x in capitals.keys():\n",
    "    print(x)"
   ]
  },
  {
   "cell_type": "code",
   "execution_count": 131,
   "id": "026f7cce",
   "metadata": {},
   "outputs": [
    {
     "name": "stdout",
     "output_type": "stream",
     "text": [
      "Bangladesh BNG\n",
      "France paris\n",
      "India new delhi\n"
     ]
    }
   ],
   "source": [
    "for k,v in capitals.items():\n",
    "    print(k,v)"
   ]
  },
  {
   "cell_type": "code",
   "execution_count": 132,
   "id": "f6d3f166",
   "metadata": {},
   "outputs": [
    {
     "name": "stdout",
     "output_type": "stream",
     "text": [
      "True\n"
     ]
    }
   ],
   "source": [
    "print( 'paris' in capitals.values())"
   ]
  },
  {
   "cell_type": "code",
   "execution_count": 134,
   "id": "2f9906f2",
   "metadata": {},
   "outputs": [
    {
     "name": "stdout",
     "output_type": "stream",
     "text": [
      "False\n"
     ]
    }
   ],
   "source": [
    "print('BNG' in capitals.keys())"
   ]
  },
  {
   "cell_type": "code",
   "execution_count": 136,
   "id": "10ab1348",
   "metadata": {},
   "outputs": [
    {
     "name": "stdout",
     "output_type": "stream",
     "text": [
      "{}\n"
     ]
    }
   ],
   "source": [
    "capitals.clear()\n",
    "print(capitals)"
   ]
  },
  {
   "cell_type": "code",
   "execution_count": 144,
   "id": "0b2354ea",
   "metadata": {},
   "outputs": [
    {
     "name": "stdout",
     "output_type": "stream",
     "text": [
      "{'a': (1, 2, 3), 'c': (1, 2, 3), 'b': (1, 2, 3)}\n"
     ]
    }
   ],
   "source": [
    "alphabets = {'a', 'b', 'c'}\n",
    "number = 1,2,3\n",
    "dictionary=dict.fromkeys(alphabets,number)\n",
    "print(dictionary)\n"
   ]
  },
  {
   "cell_type": "code",
   "execution_count": 146,
   "id": "4d0d9840",
   "metadata": {},
   "outputs": [
    {
     "name": "stdout",
     "output_type": "stream",
     "text": [
      "67\n"
     ]
    }
   ],
   "source": [
    "marks = {'Physics':67, 'Maths':87}\n",
    "print(marks.get('Physics'))"
   ]
  },
  {
   "cell_type": "code",
   "execution_count": 148,
   "id": "64ab5c36",
   "metadata": {},
   "outputs": [
    {
     "name": "stdout",
     "output_type": "stream",
     "text": [
      "dict_items([('Physics', 67), ('Maths', 87)])\n"
     ]
    }
   ],
   "source": [
    "marks = {'Physics':67, 'Maths':87}\n",
    "print(marks.items())"
   ]
  },
  {
   "cell_type": "code",
   "execution_count": 183,
   "id": "701f0b70",
   "metadata": {},
   "outputs": [
    {
     "name": "stdout",
     "output_type": "stream",
     "text": [
      "('salary', 3500.0)\n",
      "{'name': 'Phill', 'age': 22}\n"
     ]
    }
   ],
   "source": [
    "person = {'name': 'Phill', 'age': 22, 'salary': 3500.0}\n",
    "result=person.popitem()\n",
    "print(result)\n",
    "print(person)"
   ]
  },
  {
   "cell_type": "code",
   "execution_count": 186,
   "id": "def0a9fd",
   "metadata": {},
   "outputs": [
    {
     "name": "stdout",
     "output_type": "stream",
     "text": [
      "{'name': 'Phill', 'age': 22, 'salary': 3500.0, 'office': None}\n",
      "None\n"
     ]
    }
   ],
   "source": [
    "person = {'name': 'Phill', 'age': 22, 'salary': 3500.0}\n",
    "salary=person.setdefault('office')\n",
    "print(person)\n",
    "print(salary)"
   ]
  },
  {
   "cell_type": "code",
   "execution_count": 188,
   "id": "76b7dea5",
   "metadata": {},
   "outputs": [
    {
     "name": "stdout",
     "output_type": "stream",
     "text": [
      "72\n",
      "{'Physics': 67, 'Math': 89}\n"
     ]
    }
   ],
   "source": [
    "marks = { 'Physics': 67, 'Chemistry': 72, 'Math': 89 }\n",
    "element=marks.pop('Chemistry')\n",
    "print(element)\n",
    "print(marks)"
   ]
  },
  {
   "cell_type": "code",
   "execution_count": 189,
   "id": "e08c96ad",
   "metadata": {},
   "outputs": [
    {
     "name": "stdout",
     "output_type": "stream",
     "text": [
      "{'Physics': 67}\n"
     ]
    }
   ],
   "source": [
    "element=marks.popitem()\n",
    "print(marks)"
   ]
  },
  {
   "cell_type": "code",
   "execution_count": 190,
   "id": "f01086fa",
   "metadata": {},
   "outputs": [
    {
     "name": "stdout",
     "output_type": "stream",
     "text": [
      "{'Physics': 67, 'Maths': 87, 'Practical': 48}\n"
     ]
    }
   ],
   "source": [
    "marks = {'Physics':67, 'Maths':87}\n",
    "internal_marks = {'Practical':48}\n",
    "marks.update(internal_marks)\n",
    "print(marks)"
   ]
  },
  {
   "cell_type": "code",
   "execution_count": 196,
   "id": "6cb97780",
   "metadata": {},
   "outputs": [
    {
     "name": "stdout",
     "output_type": "stream",
     "text": [
      "array('i', [62, 5, 42])\n"
     ]
    }
   ],
   "source": [
    "import array as arr\n",
    "numbers_list = [2, 5, 62, 5, 42, 52, 48, 5]\n",
    "numbers_array = arr.array('i', numbers_list)\n",
    "print(numbers_array[2:5])"
   ]
  },
  {
   "cell_type": "code",
   "execution_count": 200,
   "id": "e4212998",
   "metadata": {},
   "outputs": [
    {
     "name": "stdout",
     "output_type": "stream",
     "text": [
      "array('i', [1, 2, 3, 5, 7, 10])\n",
      "array('i', [1, 2, 4, 6, 8, 10])\n"
     ]
    }
   ],
   "source": [
    "import array as arr\n",
    "numbers= arr.array('i',[1,2,3,5,7,10])\n",
    "print(numbers)\n",
    "numbers[2:5]=arr.array('i',[4,6,8])\n",
    "print(numbers)"
   ]
  },
  {
   "cell_type": "code",
   "execution_count": 201,
   "id": "1612b930",
   "metadata": {},
   "outputs": [
    {
     "name": "stdout",
     "output_type": "stream",
     "text": [
      "array('i', [1, 2, 3, 4])\n"
     ]
    }
   ],
   "source": [
    "import array as arr\n",
    "numbers = arr.array('i',[1,2,3])\n",
    "numbers.append(4)\n",
    "print(numbers)"
   ]
  },
  {
   "cell_type": "code",
   "execution_count": 202,
   "id": "08877779",
   "metadata": {},
   "outputs": [
    {
     "name": "stdout",
     "output_type": "stream",
     "text": [
      "array('i', [1, 3, 5, 2, 4, 6])\n"
     ]
    }
   ],
   "source": [
    "import array as arr\n",
    "odd= arr.array('i',[1,3,5])\n",
    "even=arr.array('i',[2,4,6])\n",
    "combine=odd+even\n",
    "print(combine)"
   ]
  },
  {
   "cell_type": "code",
   "execution_count": 8,
   "id": "64fd6c4f",
   "metadata": {},
   "outputs": [
    {
     "ename": "AttributeError",
     "evalue": "'array.array' object has no attribute 'sort'",
     "output_type": "error",
     "traceback": [
      "\u001b[1;31m---------------------------------------------------------------------------\u001b[0m",
      "\u001b[1;31mAttributeError\u001b[0m                            Traceback (most recent call last)",
      "Input \u001b[1;32mIn [8]\u001b[0m, in \u001b[0;36m<cell line: 8>\u001b[1;34m()\u001b[0m\n\u001b[0;32m      6\u001b[0m \u001b[38;5;28;01mdel\u001b[39;00m ar1[\u001b[38;5;241m-\u001b[39m\u001b[38;5;241m1\u001b[39m]\n\u001b[0;32m      7\u001b[0m ar1\u001b[38;5;241m.\u001b[39mreverse()\n\u001b[1;32m----> 8\u001b[0m \u001b[43mar1\u001b[49m\u001b[38;5;241;43m.\u001b[39;49m\u001b[43msort\u001b[49m()\n\u001b[0;32m      9\u001b[0m ar1\n",
      "\u001b[1;31mAttributeError\u001b[0m: 'array.array' object has no attribute 'sort'"
     ]
    }
   ],
   "source": [
    "import array as arr\n",
    "ar1=arr.array('i',[1,2,3,5,10])\n",
    "ar1[0]=11\n",
    "ar1.append(8)\n",
    "ar1\n",
    "del ar1[-1]\n",
    "ar1.reverse()\n",
    "ar1.sort()\n",
    "ar1"
   ]
  },
  {
   "cell_type": "code",
   "execution_count": null,
   "id": "9adc9f1e",
   "metadata": {},
   "outputs": [],
   "source": [
    "#data frame....................."
   ]
  },
  {
   "cell_type": "code",
   "execution_count": 209,
   "id": "337e1d90",
   "metadata": {},
   "outputs": [
    {
     "name": "stdout",
     "output_type": "stream",
     "text": [
      "        0\n",
      "0   Geeks\n",
      "1     For\n",
      "2   Geeks\n",
      "3      is\n",
      "4  portal\n",
      "5     for\n",
      "6   Geeks\n"
     ]
    }
   ],
   "source": [
    "import pandas as pd\n",
    "lst = ['Geeks', 'For', 'Geeks', 'is', \n",
    "            'portal', 'for', 'Geeks']\n",
    "df = pd.DataFrame(lst)\n",
    "print(df)"
   ]
  },
  {
   "cell_type": "code",
   "execution_count": 210,
   "id": "95d83418",
   "metadata": {},
   "outputs": [
    {
     "name": "stdout",
     "output_type": "stream",
     "text": [
      "    Name  Age\n",
      "0    Tom   20\n",
      "1   nick   21\n",
      "2  krish   19\n",
      "3   jack   18\n"
     ]
    }
   ],
   "source": [
    "import pandas as pd\n",
    "data={'Name':['Tom','nick','krish','jack'],'Age':[20,21,19,18]}\n",
    "df=pd.DataFrame(data)\n",
    "print(df)"
   ]
  },
  {
   "cell_type": "code",
   "execution_count": 213,
   "id": "5a8c6682",
   "metadata": {},
   "outputs": [
    {
     "name": "stdout",
     "output_type": "stream",
     "text": [
      "     Name  Age Qualification\n",
      "0     jai   27           MSC\n",
      "1  princi   24            MA\n",
      "2  gaurav   22           MCA\n",
      "3    anuj   32           PHD\n"
     ]
    }
   ],
   "source": [
    "import pandas as pd\n",
    "data={'Name':['jai','princi','gaurav','anuj'], 'Age':[27,24,22,32],'Qualification':['MSC','MA','MCA','PHD']}\n",
    "df=pd.DataFrame(data)\n",
    "print(df)"
   ]
  },
  {
   "cell_type": "code",
   "execution_count": 214,
   "id": "7984ad7d",
   "metadata": {},
   "outputs": [
    {
     "name": "stdout",
     "output_type": "stream",
     "text": [
      "Empty DataFrame\n",
      "Columns: []\n",
      "Index: []\n"
     ]
    }
   ],
   "source": [
    "import pandas as pd\n",
    "df=pd.DataFrame()\n",
    "print(df)"
   ]
  }
 ],
 "metadata": {
  "kernelspec": {
   "display_name": "Python 3 (ipykernel)",
   "language": "python",
   "name": "python3"
  },
  "language_info": {
   "codemirror_mode": {
    "name": "ipython",
    "version": 3
   },
   "file_extension": ".py",
   "mimetype": "text/x-python",
   "name": "python",
   "nbconvert_exporter": "python",
   "pygments_lexer": "ipython3",
   "version": "3.9.12"
  }
 },
 "nbformat": 4,
 "nbformat_minor": 5
}
